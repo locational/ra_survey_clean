{
 "cells": [
  {
   "cell_type": "markdown",
   "metadata": {},
   "source": [
    " ## Conversion script\n",
    "\n",
    " Starts from a file `input/test-lime-data.csv`, which is the content of the `RAW` tab of the Excel file shared. Any changes to the column _shape_ of this file will break the script: e.g. edits to the survey.\n",
    " \n",
    " For each row (a response) in the original data (`df` below), it creates one or many new rows in an output table (`ndf` below).\n",
    "\n",
    " **NOTE**: It currently does not work through any columns in the _Other_ category for _type_ of relationship.\n",
    "\n",
    " The output file (`output/graph1.csv`) contains a row for each org->partner relationship, with columns for the `from_org` (i.e. respondent), to `to_org` (who they are saying is a partner), the sector/type of relationship (see below for a list of the 16 explicit types), and the frequency."
   ]
  },
  {
   "cell_type": "code",
   "execution_count": 21,
   "metadata": {},
   "outputs": [],
   "source": [
    "\n",
    "import numpy as np\n",
    "import pandas as pd\n",
    "df = pd.read_csv('input/test-lime-data.csv')\n",
    "df.index.name = 'id'"
   ]
  },
  {
   "cell_type": "code",
   "execution_count": 22,
   "metadata": {},
   "outputs": [],
   "source": [
    "rel_type_column_names = ['agriculture', 'climate_change', 'community_development', 'conservation', 'economic_development', 'education', 'energy',\n",
    "                         'food_security', 'gender', 'grant_making', 'health', 'human_rights', 'peace_building', 'policy_making_governance', 'water', 'wildlife_biodiversity']\n",
    "# freq_column_names = ['not_in_6_months', 'once_6_monthly',\n",
    "                    #  'multiple_6_monthly', 'multiple_monthly', 'weekly', 'multiple_weekly']\n",
    "freq_column_names = [6,5,4,3,2,1]\n",
    "# Column indices\n",
    "max_partner_length = 10\n",
    "name_start_idx = [43, 44, 45, 46, 47, 48, 49, 50, 51, 52]\n",
    "name_len = 1\n",
    "type_start_idx = [53, 75, 97, 119, 141, 163, 185, 207, 229, 251]\n",
    "type_len = 16  # 22 # Note that if set to 16, it skips the 'Other' answers\n",
    "freq_start_idx = [273, 279, 285, 291, 297, 303, 309, 315, 321, 327]\n",
    "freq_len = 6\n",
    "\n"
   ]
  },
  {
   "cell_type": "code",
   "execution_count": 23,
   "metadata": {},
   "outputs": [],
   "source": [
    "def flatten_type(row: pd.Series, start_col):\n",
    "    types = row[start_col:start_col+type_len]\n",
    "    types.index = rel_type_column_names\n",
    "    types_keep = types[types == 'Yes']\n",
    "    res = '|'.join(types_keep.index)\n",
    "    return res\n"
   ]
  },
  {
   "cell_type": "code",
   "execution_count": 24,
   "metadata": {},
   "outputs": [],
   "source": [
    "def flatten_freq(row, start_col):\n",
    "    freqs = row[start_col:start_col+freq_len]\n",
    "    freqs.index = freq_column_names\n",
    "    freq = freqs[freqs == 'Yes']\n",
    "    return freq.index[0]"
   ]
  },
  {
   "cell_type": "code",
   "execution_count": 34,
   "metadata": {},
   "outputs": [
    {
     "output_type": "execute_result",
     "data": {
      "text/plain": [
       "                   Source                                             Target  \\\n",
       "0         Resource Africa                       Southern African Trust (SAT)   \n",
       "1         Resource Africa  Community Based Natural Resources Management (...   \n",
       "2   Southern Africa Trust        Southern Africa People's Solidarity Network   \n",
       "3   Southern Africa Trust                                 Graca Machel Trust   \n",
       "4   Southern Africa Trust          Mandela Institute for Development Studies   \n",
       "5   Southern Africa Trust                                   SADC Secretariat   \n",
       "6   Southern Africa Trust  Centre on African Philanthropy and Social Inve...   \n",
       "7   Southern Africa Trust        Foreign and Commonwealth Development Office   \n",
       "8   Southern Africa Trust                                    Ford Foundation   \n",
       "9   Southern Africa Trust                                    Mott Foundation   \n",
       "10  Southern Africa Trust             Southern Africa Rural Women's Assembly   \n",
       "\n",
       "                                                Label Weight  \n",
       "0                  community_development|health|water      2  \n",
       "1   climate_change|community_development|health|water      2  \n",
       "2         gender|peace_building|wildlife_biodiversity      4  \n",
       "3   agriculture|climate_change|conservation|gender...      5  \n",
       "4   conservation|energy|food_security|health|peace...      4  \n",
       "5   agriculture|conservation|energy|gender|health|...      4  \n",
       "6                  conservation|energy|peace_building      5  \n",
       "7              agriculture|conservation|energy|gender      4  \n",
       "8   agriculture|conservation|energy|food_security|...      4  \n",
       "9         climate_change|gender|wildlife_biodiversity      5  \n",
       "10                              climate_change|gender      5  "
      ],
      "text/html": "<div>\n<style scoped>\n    .dataframe tbody tr th:only-of-type {\n        vertical-align: middle;\n    }\n\n    .dataframe tbody tr th {\n        vertical-align: top;\n    }\n\n    .dataframe thead th {\n        text-align: right;\n    }\n</style>\n<table border=\"1\" class=\"dataframe\">\n  <thead>\n    <tr style=\"text-align: right;\">\n      <th></th>\n      <th>Source</th>\n      <th>Target</th>\n      <th>Label</th>\n      <th>Weight</th>\n    </tr>\n  </thead>\n  <tbody>\n    <tr>\n      <th>0</th>\n      <td>Resource Africa</td>\n      <td>Southern African Trust (SAT)</td>\n      <td>community_development|health|water</td>\n      <td>2</td>\n    </tr>\n    <tr>\n      <th>1</th>\n      <td>Resource Africa</td>\n      <td>Community Based Natural Resources Management (...</td>\n      <td>climate_change|community_development|health|water</td>\n      <td>2</td>\n    </tr>\n    <tr>\n      <th>2</th>\n      <td>Southern Africa Trust</td>\n      <td>Southern Africa People's Solidarity Network</td>\n      <td>gender|peace_building|wildlife_biodiversity</td>\n      <td>4</td>\n    </tr>\n    <tr>\n      <th>3</th>\n      <td>Southern Africa Trust</td>\n      <td>Graca Machel Trust</td>\n      <td>agriculture|climate_change|conservation|gender...</td>\n      <td>5</td>\n    </tr>\n    <tr>\n      <th>4</th>\n      <td>Southern Africa Trust</td>\n      <td>Mandela Institute for Development Studies</td>\n      <td>conservation|energy|food_security|health|peace...</td>\n      <td>4</td>\n    </tr>\n    <tr>\n      <th>5</th>\n      <td>Southern Africa Trust</td>\n      <td>SADC Secretariat</td>\n      <td>agriculture|conservation|energy|gender|health|...</td>\n      <td>4</td>\n    </tr>\n    <tr>\n      <th>6</th>\n      <td>Southern Africa Trust</td>\n      <td>Centre on African Philanthropy and Social Inve...</td>\n      <td>conservation|energy|peace_building</td>\n      <td>5</td>\n    </tr>\n    <tr>\n      <th>7</th>\n      <td>Southern Africa Trust</td>\n      <td>Foreign and Commonwealth Development Office</td>\n      <td>agriculture|conservation|energy|gender</td>\n      <td>4</td>\n    </tr>\n    <tr>\n      <th>8</th>\n      <td>Southern Africa Trust</td>\n      <td>Ford Foundation</td>\n      <td>agriculture|conservation|energy|food_security|...</td>\n      <td>4</td>\n    </tr>\n    <tr>\n      <th>9</th>\n      <td>Southern Africa Trust</td>\n      <td>Mott Foundation</td>\n      <td>climate_change|gender|wildlife_biodiversity</td>\n      <td>5</td>\n    </tr>\n    <tr>\n      <th>10</th>\n      <td>Southern Africa Trust</td>\n      <td>Southern Africa Rural Women's Assembly</td>\n      <td>climate_change|gender</td>\n      <td>5</td>\n    </tr>\n  </tbody>\n</table>\n</div>"
     },
     "metadata": {},
     "execution_count": 34
    }
   ],
   "source": [
    "ndf = pd.DataFrame(columns=['Source', 'Target', 'Label', 'Weight'])\n",
    "\n",
    "for index, row in df.iterrows():\n",
    "    # Go through every potential partner...\n",
    "    for partner_index in range(0, max_partner_length):\n",
    "        partner_number = partner_index + 1\n",
    "        # print(f'Doing partner {partner_number}')\n",
    "        from_org = row.iloc[0]\n",
    "\n",
    "        to_org_idx = name_start_idx[partner_index]\n",
    "        to_org = row.iloc[to_org_idx]\n",
    "\n",
    "        if to_org == 'No' or pd.isnull(to_org):\n",
    "            # print(f'drop!: {to_org}')\n",
    "            continue\n",
    "\n",
    "        type_start = type_start_idx[partner_index]\n",
    "        rel_type = flatten_type(row, type_start)\n",
    "\n",
    "        freq_start = freq_start_idx[partner_index]\n",
    "        rel_freq = flatten_freq(row, freq_start)\n",
    "\n",
    "        row_data = {'Source': from_org, 'Target': to_org,\n",
    "                    'Label': rel_type, 'Weight': rel_freq}\n",
    "        ndf = ndf.append(row_data, ignore_index=True)\n",
    "ndf"
   ]
  },
  {
   "cell_type": "code",
   "execution_count": 37,
   "metadata": {},
   "outputs": [
    {
     "output_type": "execute_result",
     "data": {
      "text/plain": [
       "                   Source                                             Target  \\\n",
       "id                                                                             \n",
       "0         Resource Africa                       Southern African Trust (SAT)   \n",
       "1         Resource Africa  Community Based Natural Resources Management (...   \n",
       "2   Southern Africa Trust        Southern Africa People's Solidarity Network   \n",
       "3   Southern Africa Trust                                 Graca Machel Trust   \n",
       "4   Southern Africa Trust          Mandela Institute for Development Studies   \n",
       "5   Southern Africa Trust                                   SADC Secretariat   \n",
       "6   Southern Africa Trust  Centre on African Philanthropy and Social Inve...   \n",
       "7   Southern Africa Trust        Foreign and Commonwealth Development Office   \n",
       "8   Southern Africa Trust                                    Ford Foundation   \n",
       "9   Southern Africa Trust                                    Mott Foundation   \n",
       "10  Southern Africa Trust             Southern Africa Rural Women's Assembly   \n",
       "\n",
       "                                                Label Weight  \n",
       "id                                                            \n",
       "0                  community_development|health|water      2  \n",
       "1   climate_change|community_development|health|water      2  \n",
       "2         gender|peace_building|wildlife_biodiversity      4  \n",
       "3   agriculture|climate_change|conservation|gender...      5  \n",
       "4   conservation|energy|food_security|health|peace...      4  \n",
       "5   agriculture|conservation|energy|gender|health|...      4  \n",
       "6                  conservation|energy|peace_building      5  \n",
       "7              agriculture|conservation|energy|gender      4  \n",
       "8   agriculture|conservation|energy|food_security|...      4  \n",
       "9         climate_change|gender|wildlife_biodiversity      5  \n",
       "10                              climate_change|gender      5  "
      ],
      "text/html": "<div>\n<style scoped>\n    .dataframe tbody tr th:only-of-type {\n        vertical-align: middle;\n    }\n\n    .dataframe tbody tr th {\n        vertical-align: top;\n    }\n\n    .dataframe thead th {\n        text-align: right;\n    }\n</style>\n<table border=\"1\" class=\"dataframe\">\n  <thead>\n    <tr style=\"text-align: right;\">\n      <th></th>\n      <th>Source</th>\n      <th>Target</th>\n      <th>Label</th>\n      <th>Weight</th>\n    </tr>\n    <tr>\n      <th>id</th>\n      <th></th>\n      <th></th>\n      <th></th>\n      <th></th>\n    </tr>\n  </thead>\n  <tbody>\n    <tr>\n      <th>0</th>\n      <td>Resource Africa</td>\n      <td>Southern African Trust (SAT)</td>\n      <td>community_development|health|water</td>\n      <td>2</td>\n    </tr>\n    <tr>\n      <th>1</th>\n      <td>Resource Africa</td>\n      <td>Community Based Natural Resources Management (...</td>\n      <td>climate_change|community_development|health|water</td>\n      <td>2</td>\n    </tr>\n    <tr>\n      <th>2</th>\n      <td>Southern Africa Trust</td>\n      <td>Southern Africa People's Solidarity Network</td>\n      <td>gender|peace_building|wildlife_biodiversity</td>\n      <td>4</td>\n    </tr>\n    <tr>\n      <th>3</th>\n      <td>Southern Africa Trust</td>\n      <td>Graca Machel Trust</td>\n      <td>agriculture|climate_change|conservation|gender...</td>\n      <td>5</td>\n    </tr>\n    <tr>\n      <th>4</th>\n      <td>Southern Africa Trust</td>\n      <td>Mandela Institute for Development Studies</td>\n      <td>conservation|energy|food_security|health|peace...</td>\n      <td>4</td>\n    </tr>\n    <tr>\n      <th>5</th>\n      <td>Southern Africa Trust</td>\n      <td>SADC Secretariat</td>\n      <td>agriculture|conservation|energy|gender|health|...</td>\n      <td>4</td>\n    </tr>\n    <tr>\n      <th>6</th>\n      <td>Southern Africa Trust</td>\n      <td>Centre on African Philanthropy and Social Inve...</td>\n      <td>conservation|energy|peace_building</td>\n      <td>5</td>\n    </tr>\n    <tr>\n      <th>7</th>\n      <td>Southern Africa Trust</td>\n      <td>Foreign and Commonwealth Development Office</td>\n      <td>agriculture|conservation|energy|gender</td>\n      <td>4</td>\n    </tr>\n    <tr>\n      <th>8</th>\n      <td>Southern Africa Trust</td>\n      <td>Ford Foundation</td>\n      <td>agriculture|conservation|energy|food_security|...</td>\n      <td>4</td>\n    </tr>\n    <tr>\n      <th>9</th>\n      <td>Southern Africa Trust</td>\n      <td>Mott Foundation</td>\n      <td>climate_change|gender|wildlife_biodiversity</td>\n      <td>5</td>\n    </tr>\n    <tr>\n      <th>10</th>\n      <td>Southern Africa Trust</td>\n      <td>Southern Africa Rural Women's Assembly</td>\n      <td>climate_change|gender</td>\n      <td>5</td>\n    </tr>\n  </tbody>\n</table>\n</div>"
     },
     "metadata": {},
     "execution_count": 37
    }
   ],
   "source": [
    "ndf.to_csv('output/graph1.csv')\n",
    "ndf.index.name = 'id'\n",
    "ndf"
   ]
  },
  {
   "cell_type": "code",
   "execution_count": 27,
   "metadata": {},
   "outputs": [
    {
     "output_type": "execute_result",
     "data": {
      "text/plain": [
       "                                                 name\n",
       "0   Centre on African Philanthropy and Social Inve...\n",
       "1   Community Based Natural Resources Management (...\n",
       "2                                     Ford Foundation\n",
       "3         Foreign and Commonwealth Development Office\n",
       "4                                  Graca Machel Trust\n",
       "5           Mandela Institute for Development Studies\n",
       "6                                     Mott Foundation\n",
       "7                                     Resource Africa\n",
       "8                                    SADC Secretariat\n",
       "9         Southern Africa People's Solidarity Network\n",
       "10             Southern Africa Rural Women's Assembly\n",
       "11                              Southern Africa Trust\n",
       "12                       Southern African Trust (SAT)"
      ],
      "text/html": "<div>\n<style scoped>\n    .dataframe tbody tr th:only-of-type {\n        vertical-align: middle;\n    }\n\n    .dataframe tbody tr th {\n        vertical-align: top;\n    }\n\n    .dataframe thead th {\n        text-align: right;\n    }\n</style>\n<table border=\"1\" class=\"dataframe\">\n  <thead>\n    <tr style=\"text-align: right;\">\n      <th></th>\n      <th>name</th>\n    </tr>\n  </thead>\n  <tbody>\n    <tr>\n      <th>0</th>\n      <td>Centre on African Philanthropy and Social Inve...</td>\n    </tr>\n    <tr>\n      <th>1</th>\n      <td>Community Based Natural Resources Management (...</td>\n    </tr>\n    <tr>\n      <th>2</th>\n      <td>Ford Foundation</td>\n    </tr>\n    <tr>\n      <th>3</th>\n      <td>Foreign and Commonwealth Development Office</td>\n    </tr>\n    <tr>\n      <th>4</th>\n      <td>Graca Machel Trust</td>\n    </tr>\n    <tr>\n      <th>5</th>\n      <td>Mandela Institute for Development Studies</td>\n    </tr>\n    <tr>\n      <th>6</th>\n      <td>Mott Foundation</td>\n    </tr>\n    <tr>\n      <th>7</th>\n      <td>Resource Africa</td>\n    </tr>\n    <tr>\n      <th>8</th>\n      <td>SADC Secretariat</td>\n    </tr>\n    <tr>\n      <th>9</th>\n      <td>Southern Africa People's Solidarity Network</td>\n    </tr>\n    <tr>\n      <th>10</th>\n      <td>Southern Africa Rural Women's Assembly</td>\n    </tr>\n    <tr>\n      <th>11</th>\n      <td>Southern Africa Trust</td>\n    </tr>\n    <tr>\n      <th>12</th>\n      <td>Southern African Trust (SAT)</td>\n    </tr>\n  </tbody>\n</table>\n</div>"
     },
     "metadata": {},
     "execution_count": 27
    }
   ],
   "source": [
    "# Unique partners\n",
    "stacked = ndf.iloc[:, 0:2].stack()\n",
    "pd.DataFrame(stacked.sort_values().unique(), columns=['name'])"
   ]
  }
 ],
 "metadata": {
  "kernelspec": {
   "display_name": "Python 3",
   "language": "python",
   "name": "python3"
  },
  "language_info": {
   "codemirror_mode": {
    "name": "ipython",
    "version": 3
   },
   "file_extension": ".py",
   "mimetype": "text/x-python",
   "name": "python",
   "nbconvert_exporter": "python",
   "pygments_lexer": "ipython3",
   "version": "3.8.2-final"
  }
 },
 "nbformat": 4,
 "nbformat_minor": 4
}